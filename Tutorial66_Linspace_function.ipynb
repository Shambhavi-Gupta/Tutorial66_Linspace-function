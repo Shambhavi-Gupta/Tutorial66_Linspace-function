{
  "nbformat": 4,
  "nbformat_minor": 0,
  "metadata": {
    "colab": {
      "name": "Tutorial66_Linspace-function.ipynb",
      "provenance": [],
      "authorship_tag": "ABX9TyM6BKml7YhZxCo95yZNkAYu",
      "include_colab_link": true
    },
    "kernelspec": {
      "name": "python3",
      "display_name": "Python 3"
    }
  },
  "cells": [
    {
      "cell_type": "markdown",
      "metadata": {
        "id": "view-in-github",
        "colab_type": "text"
      },
      "source": [
        "<a href=\"https://colab.research.google.com/github/Shambhavi-Gupta/Tutorial66_Linspace-function/blob/main/Tutorial66_Linspace_function.ipynb\" target=\"_parent\"><img src=\"https://colab.research.google.com/assets/colab-badge.svg\" alt=\"Open In Colab\"/></a>"
      ]
    },
    {
      "cell_type": "code",
      "metadata": {
        "id": "90TA3bpH-Ljl"
      },
      "source": [
        "import numpy as np\r\n",
        "#help(np.linspace)\r\n",
        "# a = np.linspace(1,50,num=5)\r\n",
        "# print(a)\r\n",
        "# a = np.linspace(1,50,num=5,endpoint = False)\r\n",
        "# print(a)\r\n",
        "# a = np.linspace(1,50,num=5,retstep=True)\r\n",
        "# print(a)\r\n",
        "a = np.linspace(1,10,dtype = int)\r\n",
        "print(a)"
      ],
      "execution_count": null,
      "outputs": []
    }
  ]
}